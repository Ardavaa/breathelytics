{
 "cells": [
  {
   "cell_type": "markdown",
   "id": "b0a5345c",
   "metadata": {},
   "source": [
    "# GitHub Rollback Guide\n",
    "\n",
    "There are several ways to rollback changes in Git/GitHub depending on your scenario:\n",
    "\n",
    "## 1. Revert the last push\n",
    "To undo your last push while keeping the history:\n",
    "\n",
    "```bash\n",
    "git revert HEAD\n",
    "git push origin main\n",
    "```\n",
    "\n",
    "## 2. Reset to a specific commit\n",
    "To completely remove commits after a certain point:\n",
    "\n",
    "```bash\n",
    "# Find the commit hash you want to go back to\n",
    "git log --oneline\n",
    "\n",
    "# Reset to that commit\n",
    "git reset --hard <commit-hash>\n",
    "git push -f origin main  # Warning: Force push\n",
    "```\n",
    "\n",
    "## 3. Soft reset (preserve changes locally)\n",
    "To undo commits but keep the changes in your working directory:\n",
    "\n",
    "```bash\n",
    "git reset --soft HEAD~1  # Undo last commit\n",
    "git status  # Review changes\n",
    "git commit -m \"New commit message\"\n",
    "git push origin main\n",
    "```\n",
    "\n",
    "⚠️ **Warning**: Force pushing (`git push -f`) rewrites history and can cause issues for other collaborators. Use with caution on shared repositories."
   ]
  },
  {
   "cell_type": "markdown",
   "id": "a9834e13",
   "metadata": {},
   "source": [
    "## Best Practices\n",
    "\n",
    "1. **Before Rolling Back**:\n",
    "   - Create a backup branch\n",
    "   - Communicate with team members\n",
    "   - Check if others have pulled your changes\n",
    "\n",
    "2. **After Rolling Back**:\n",
    "   - Notify team members\n",
    "   - Ask them to sync their repositories\n",
    "   - Document the rollback reason\n",
    "\n",
    "3. **Safety Measures**:\n",
    "   - Use `git revert` for shared repositories\n",
    "   - Reserve `git reset --hard` for local changes\n",
    "   - Always create backup branches before major operations"
   ]
  }
 ],
 "metadata": {
  "language_info": {
   "name": "python"
  }
 },
 "nbformat": 4,
 "nbformat_minor": 5
}
